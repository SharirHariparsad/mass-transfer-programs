{
 "cells": [
  {
   "cell_type": "markdown",
   "id": "093e1d25",
   "metadata": {},
   "source": [
    "Purpose of this notebook is a rough outline of how my script will run before pushing it into a full on python file...Below is the macabe theil class which will perform the macabe theil method on my distillation column."
   ]
  },
  {
   "cell_type": "markdown",
   "id": "2fa329a6",
   "metadata": {},
   "source": [
    "You want to generate binary VLE data at fixed pressure using an activity coefficient model (NRTL, Wilson, UNIQUAC). That means:\n",
    "\n",
    "Input: two chemicals, pressure, model, and number of points\n",
    "\n",
    "Output: \n",
    "𝑥\n",
    "x–\n",
    "𝑦\n",
    "y diagram + \n",
    "𝑇\n",
    "T–\n",
    "𝑥\n",
    "x–\n",
    "𝑦\n",
    "y diagram\n",
    "\n",
    "So you need:\n",
    "\n",
    "Define the system (components, constants, correlations).\n",
    "\n",
    "Choose thermodynamic models (EOS + activity model).\n",
    "\n",
    "Build a flash solver (FlashVL).\n",
    "\n",
    "Loop over compositions, run bubble/dew flashes, extract results.\n",
    "\n",
    "Save data & plot."
   ]
  },
  {
   "cell_type": "markdown",
   "id": "8355f608",
   "metadata": {},
   "source": [
    "this clearly doesnt work..."
   ]
  },
  {
   "cell_type": "code",
   "execution_count": 16,
   "id": "ab713d82",
   "metadata": {},
   "outputs": [
    {
     "ename": "ValueError",
     "evalue": "Two specs are required",
     "output_type": "error",
     "traceback": [
      "\u001b[31m---------------------------------------------------------------------------\u001b[39m",
      "\u001b[31mValueError\u001b[39m                                Traceback (most recent call last)",
      "\u001b[32m~\\AppData\\Local\\Temp\\ipykernel_19636\\165688338.py\u001b[39m in \u001b[36m?\u001b[39m\u001b[34m()\u001b[39m\n\u001b[32m     13\u001b[39m \u001b[38;5;66;03m# Initial guess for overall composition (zs must be provided)\u001b[39;00m\n\u001b[32m     14\u001b[39m zs = [\u001b[32m0.5\u001b[39m, \u001b[32m0.5\u001b[39m]\n\u001b[32m     15\u001b[39m \n\u001b[32m     16\u001b[39m \u001b[38;5;66;03m# Equation of state (Peng–Robinson)\u001b[39;00m\n\u001b[32m---> \u001b[39m\u001b[32m17\u001b[39m eos = PRMIX(Tcs=Tcs, Pcs=Pcs, omegas=omegas, zs=zs)\n\u001b[32m     18\u001b[39m \n\u001b[32m     19\u001b[39m \u001b[38;5;66;03m# Gas + liquid phases\u001b[39;00m\n\u001b[32m     20\u001b[39m gasPhase = CEOSGas(eos=eos, HeatCapacityGases=correlations.HeatCapacityGases)\n",
      "\u001b[32m~\\AppData\\Local\\Packages\\PythonSoftwareFoundation.Python.3.11_qbz5n2kfra8p0\\LocalCache\\local-packages\\Python311\\site-packages\\thermo\\eos_mix.py\u001b[39m in \u001b[36m?\u001b[39m\u001b[34m(self, Tcs, Pcs, omegas, zs, kijs, T, P, V, fugacities, only_l, only_g)\u001b[39m\n\u001b[32m   6903\u001b[39m \n\u001b[32m   6904\u001b[39m         self.delta = \u001b[32m2.0\u001b[39m*b\n\u001b[32m   6905\u001b[39m         self.epsilon = -b*b\n\u001b[32m   6906\u001b[39m \n\u001b[32m-> \u001b[39m\u001b[32m6907\u001b[39m         self.solve(only_l=only_l, only_g=only_g)\n\u001b[32m   6908\u001b[39m         \u001b[38;5;28;01mif\u001b[39;00m fugacities:\n\u001b[32m   6909\u001b[39m             self.fugacities()\n",
      "\u001b[32m~\\AppData\\Local\\Packages\\PythonSoftwareFoundation.Python.3.11_qbz5n2kfra8p0\\LocalCache\\local-packages\\Python311\\site-packages\\thermo\\eos.py\u001b[39m in \u001b[36m?\u001b[39m\u001b[34m(self, pure_a_alphas, only_l, only_g, full_alphas)\u001b[39m\n\u001b[32m   1145\u001b[39m             \u001b[38;5;28;01melse\u001b[39;00m:\n\u001b[32m   1146\u001b[39m                 \u001b[38;5;28;01mraise\u001b[39;00m ValueError(\u001b[33m\"Two specs are required\"\u001b[39m)\n\u001b[32m   1147\u001b[39m             Vs = [V, \u001b[32m1.0j\u001b[39m, \u001b[32m1.0j\u001b[39m]\n\u001b[32m   1148\u001b[39m         \u001b[38;5;28;01melif\u001b[39;00m self.T \u001b[38;5;28;01mis\u001b[39;00m \u001b[38;5;28;01mNone\u001b[39;00m \u001b[38;5;28;01mor\u001b[39;00m self.P \u001b[38;5;28;01mis\u001b[39;00m \u001b[38;5;28;01mNone\u001b[39;00m:\n\u001b[32m-> \u001b[39m\u001b[32m1149\u001b[39m             \u001b[38;5;28;01mraise\u001b[39;00m ValueError(\u001b[33m\"Two specs are required\"\u001b[39m)\n\u001b[32m   1150\u001b[39m         \u001b[38;5;28;01melse\u001b[39;00m:\n\u001b[32m   1151\u001b[39m             \u001b[38;5;28;01mif\u001b[39;00m full_alphas:\n\u001b[32m   1152\u001b[39m                 self.a_alpha, self.da_alpha_dT, self.d2a_alpha_dT2 = self.a_alpha_and_derivatives(self.T, pure_a_alphas=pure_a_alphas)\n",
      "\u001b[31mValueError\u001b[39m: Two specs are required"
     ]
    }
   ],
   "source": [
    "from thermo import (ChemicalConstantsPackage, CEOSGas, CEOSLiquid, FlashVL, NRTL, PRMIX)\n",
    "import numpy as np\n",
    "import matplotlib.pyplot as plt\n",
    "\n",
    "components = ['n-Hexane', 'Cycloheptane']\n",
    "constants, correlations = ChemicalConstantsPackage.from_IDs(components)\n",
    "\n",
    "# Extract critical property arrays for the EOS\n",
    "Tcs = constants.Tcs\n",
    "Pcs = constants.Pcs\n",
    "omegas = constants.omegas\n",
    "\n",
    "# Initial guess for overall composition (zs must be provided)\n",
    "zs = [0.5, 0.5]\n",
    "\n",
    "# Equation of state (Peng–Robinson)\n",
    "eos = PRMIX(Tcs=Tcs, Pcs=Pcs, omegas=omegas, zs=zs)\n",
    "\n",
    "# Gas + liquid phases\n",
    "gasPhase = CEOSGas(eos=eos, HeatCapacityGases=correlations.HeatCapacityGases)\n",
    "liqPhase = CEOSLiquid(eos=eos, HeatCapacityLiquids=correlations.HeatCapacityLiquids)\n",
    "\n",
    "# Activity model\n",
    "activity = NRTL(constants=constants)\n",
    "\n",
    "# Flash solver (gamma–phi approach)\n",
    "flasher = FlashVL(constants=constants,\n",
    "                  correlations=correlations,\n",
    "                  gas=gasPhase,\n",
    "                  liquids=[liqPhase],\n",
    "                  activity=activity)\n",
    "\n",
    "# Sweep overall compositions\n",
    "z1 = np.linspace(0, 1, 50)\n",
    "x, y, T = [], [], []\n",
    "\n",
    "for z in z1:\n",
    "    res = flasher.flash(T=323.15, P=101325, zs=[z, 1-z])\n",
    "    x.append(res.liquid0.zs[0])  # liquid mole fraction of comp 1\n",
    "    y.append(res.gas.zs[0])      # vapor mole fraction of comp 1\n",
    "    T.append(res.T)\n",
    "\n",
    "# x–y diagram\n",
    "plt.plot(x, y, 'o-')\n",
    "plt.plot([0, 1], [0, 1], '--')\n",
    "plt.xlabel(\"x_hexane (liquid)\")\n",
    "plt.ylabel(\"y_hexane (vapor)\")\n",
    "plt.title(\"VLE x–y (NRTL + PR EOS)\")\n",
    "plt.grid(True)\n",
    "plt.show()\n",
    "\n",
    "# T–x diagram\n",
    "plt.plot(x, T, 'o-')\n",
    "plt.xlabel(\"x_hexane (liquid)\")\n",
    "plt.ylabel(\"Temperature [K]\")\n",
    "plt.title(\"T–x bubble curve\")\n",
    "plt.grid(True)\n",
    "plt.show()\n"
   ]
  },
  {
   "cell_type": "code",
   "execution_count": null,
   "id": "d7f4cfec",
   "metadata": {},
   "outputs": [],
   "source": []
  }
 ],
 "metadata": {
  "kernelspec": {
   "display_name": "Python 3",
   "language": "python",
   "name": "python3"
  },
  "language_info": {
   "codemirror_mode": {
    "name": "ipython",
    "version": 3
   },
   "file_extension": ".py",
   "mimetype": "text/x-python",
   "name": "python",
   "nbconvert_exporter": "python",
   "pygments_lexer": "ipython3",
   "version": "3.11.9"
  }
 },
 "nbformat": 4,
 "nbformat_minor": 5
}
